{
 "cells": [
  {
   "cell_type": "code",
   "execution_count": 2,
   "metadata": {},
   "outputs": [],
   "source": [
    "import os\n",
    "import json\n",
    "import re\n",
    "import sys\n",
    "import unicodedata\n",
    "import nltk\n",
    "from nltk.corpus import stopwords\n",
    "from classifier import *"
   ]
  },
  {
   "cell_type": "code",
   "execution_count": 3,
   "metadata": {},
   "outputs": [],
   "source": [
    "class FileStorage():\n",
    "\n",
    "    def __init__(self,filename):\n",
    "        self.filename = filename\n",
    "\n",
    "    def read(self):\n",
    "        if os.path.exists(self.filename):\n",
    "            with open(self.filename) as file:\n",
    "                data = json.load(file)\n",
    "                return data\n",
    "        else:\n",
    "            return {}\n",
    "        \n",
    "    def save(self,data):#write data like json file\n",
    "        try:\n",
    "            old_data = self.read()\n",
    "            if len(old_data.keys()) == 0:\n",
    "                old_data[\"tweets\"] = []\n",
    "            old_data[\"tweets\"].append(data)\n",
    "            jsondata = json.dumps(old_data, indent=4, skipkeys=True, sort_keys=True)\n",
    "            fd = open(self.filename, 'w')\n",
    "            fd.write(jsondata)\n",
    "            fd.close()\n",
    "            print (self.filename + \" ha sido escrito exitosamente\")\n",
    "        except Exception as e:\n",
    "            print (e)\n",
    "            print ('ERROR writing', self.filename)\n"
   ]
  },
  {
   "cell_type": "code",
   "execution_count": 4,
   "metadata": {},
   "outputs": [],
   "source": [
    "def process(tweet):\n",
    "    tweet = tweet.lower()\n",
    "    tweet = re.sub(r\"(https?)\\S+\",\"\",tweet)#remove urls\n",
    "    tweet = re.sub(r\"(\\B#)\\w*\",\"\",tweet)#remove hashtags\n",
    "    tweet = re.sub(r\"(\\B@)\\w*\",\"\",tweet)#remove mentions\n",
    "    tweet = re.sub(\"\\n\",\"\",tweet)#remove lines separate\n",
    "    tweet = unicodedata.normalize('NFKD', tweet).encode('ASCII', 'ignore')#remove accents\n",
    "    tweet = re.sub('[^a-zA-Z ]+', ' ', tweet.decode('ASCII'))#remove punctuactions\n",
    "    text_no_stop_words = filter_stop_words(tweet)\n",
    "    tokens = [token for token in text_no_stop_words if len(token) > 2 ]\n",
    "    tweet = \" \".join(tokens)\n",
    "    return tweet\n",
    "\n",
    "\n",
    "\n",
    "\n",
    "def filter_stop_words(text):\n",
    "    stop_words_list = stopwords.words('spanish')\n",
    "    stop_words_list += stopwords.words('english')\n",
    "    text_filtered = [word for word in text.split() if word.lower() not in stop_words_list]\n",
    "    return text_filtered"
   ]
  },
  {
   "cell_type": "code",
   "execution_count": 5,
   "metadata": {},
   "outputs": [
    {
     "name": "stdout",
     "output_type": "stream",
     "text": [
      "{'contributors': None, 'coordinates': None, 'created_at': 'Sat Nov 28 14:52:09 +0000 2020', 'entities': {'hashtags': [], 'symbols': [], 'urls': [], 'user_mentions': []}, 'favorite_count': 0, 'favorited': False, 'filter_level': 'low', 'geo': None, 'id': 1332698803904913410, 'id_str': '1332698803904913410', 'in_reply_to_screen_name': None, 'in_reply_to_status_id': None, 'in_reply_to_status_id_str': None, 'in_reply_to_user_id': None, 'in_reply_to_user_id_str': None, 'is_quote_status': False, 'lang': 'es', 'place': {'attributes': {}, 'bounding_box': {'coordinates': [[[-58.531792, -34.674453], [-58.531792, -34.534177], [-58.353494, -34.534177], [-58.353494, -34.674453]]], 'type': 'Polygon'}, 'country': 'Argentina', 'country_code': 'AR', 'full_name': 'Ciudad Autónoma de Buenos Aires, Argentina', 'id': '018f1cde6bad9747', 'name': 'Ciudad Autónoma de Buenos Aires', 'place_type': 'city', 'url': 'https://api.twitter.com/1.1/geo/id/018f1cde6bad9747.json'}, 'quote_count': 0, 'reply_count': 0, 'retweet_count': 0, 'retweeted': False, 'source': '<a href=\"http://twitter.com/download/android\" rel=\"nofollow\">Twitter for Android</a>', 'text': 'Hay alguien nas pelotudo que brancateli', 'timestamp_ms': '1606575129854', 'truncated': False, 'user': {'contributors_enabled': False, 'created_at': 'Mon Dec 31 12:37:59 +0000 2018', 'default_profile': True, 'default_profile_image': False, 'description': 'hincha del fortin , el ajrdrez ,la amistad y los buenos recuerdos', 'favourites_count': 40517, 'follow_request_sent': None, 'followers_count': 1585, 'following': None, 'friends_count': 3115, 'geo_enabled': True, 'id': 1079718308184756224, 'id_str': '1079718308184756224', 'is_translator': False, 'lang': None, 'listed_count': 0, 'location': 'Buenos Aires, Argentina', 'name': 'jorge paternoster', 'notifications': None, 'profile_background_color': 'F5F8FA', 'profile_background_image_url': '', 'profile_background_image_url_https': '', 'profile_background_tile': False, 'profile_banner_url': 'https://pbs.twimg.com/profile_banners/1079718308184756224/1584291008', 'profile_image_url': 'http://pbs.twimg.com/profile_images/1239232420551032834/MOqlOedz_normal.jpg', 'profile_image_url_https': 'https://pbs.twimg.com/profile_images/1239232420551032834/MOqlOedz_normal.jpg', 'profile_link_color': '1DA1F2', 'profile_sidebar_border_color': 'C0DEED', 'profile_sidebar_fill_color': 'DDEEF6', 'profile_text_color': '333333', 'profile_use_background_image': True, 'protected': False, 'screen_name': 'jorgepaternost3', 'statuses_count': 15892, 'time_zone': None, 'translator_type': 'none', 'url': None, 'utc_offset': None, 'verified': False}}\n"
     ]
    }
   ],
   "source": [
    "file_worker = FileStorage(\"buenos_aires.json\")\n",
    "data = file_worker.read()\n",
    "print(data['tweets'][10])"
   ]
  },
  {
   "cell_type": "code",
   "execution_count": 6,
   "metadata": {},
   "outputs": [],
   "source": [
    "c = 0\n",
    "clf = SentimentClassifier()\n",
    "\n",
    "latitudes = []\n",
    "longitudes = []\n",
    "ids = []\n",
    "created_at = []\n",
    "users = []\n",
    "rts = []\n",
    "favs = []\n",
    "texts = []\n",
    "sent_scores = []\n",
    "followers = []\n",
    "links = []\n",
    "for tweet in data['tweets']:\n",
    "    if type(tweet['coordinates']) == dict:\n",
    "        lat = tweet['coordinates']['coordinates'][1]\n",
    "        lon = tweet['coordinates']['coordinates'][0]\n",
    "        fecha_hora = tweet['created_at']\n",
    "        id_ = tweet['id_str']\n",
    "        text = tweet['text']\n",
    "        text = process(text)\n",
    "        favorite_count = tweet['favorite_count']\n",
    "        retweet_count = tweet['retweet_count']\n",
    "        followers_count = tweet['user']['followers_count']\n",
    "        screen_name = tweet['user']['screen_name']\n",
    "        link = 'https://twitter.com/' + screen_name + '/status/' + id_\n",
    "        score = clf.predict(text)\n",
    "        \n",
    "        latitudes.append(lat)\n",
    "        longitudes.append(lon)\n",
    "        ids.append(id_)\n",
    "        created_at.append(fecha_hora)\n",
    "        texts.append(text)\n",
    "        favs.append(favorite_count)\n",
    "        rts.append(retweet_count)\n",
    "        followers.append(followers_count)\n",
    "        users.append(screen_name)\n",
    "        links.append(link)\n",
    "        sent_scores.append(score)\n",
    "        c+=1"
   ]
  },
  {
   "cell_type": "code",
   "execution_count": 9,
   "metadata": {},
   "outputs": [],
   "source": [
    "f = open('tweets_coordinates.csv', 'w')\n",
    "f.write('id,created_at,latitude,longitude,user_screen_name,retweets_count,favorites_count,text,followers_count,link,sentiment_score\\n')\n",
    "for i in range(c):\n",
    "    f.write(str(ids[i]) + ',' + created_at[i] + ',' + str(latitudes[i]) + ',' + str(longitudes[i]) + ',' + users[i] + ',' + str(rts[i]) + ',' + str(favs[i]) + ',' + texts[i] + ',' + str(followers[i]) + ',' + links[i] + ',' + str(sent_scores[i]) +'\\n')                   \n",
    "f.close()\n"
   ]
  },
  {
   "cell_type": "code",
   "execution_count": null,
   "metadata": {},
   "outputs": [],
   "source": [
    "users[i] + ',' + rts[i] + ',' + favs[i] + ',' + texts[i] + ',' + followers[i] + ',' + links[i] + ',' + str(sent_scores[i]) +'\\n')                   "
   ]
  },
  {
   "cell_type": "code",
   "execution_count": null,
   "metadata": {},
   "outputs": [],
   "source": []
  },
  {
   "cell_type": "code",
   "execution_count": null,
   "metadata": {},
   "outputs": [],
   "source": []
  }
 ],
 "metadata": {
  "kernelspec": {
   "display_name": "Python 3",
   "language": "python",
   "name": "python3"
  },
  "language_info": {
   "codemirror_mode": {
    "name": "ipython",
    "version": 3
   },
   "file_extension": ".py",
   "mimetype": "text/x-python",
   "name": "python",
   "nbconvert_exporter": "python",
   "pygments_lexer": "ipython3",
   "version": "3.6.9"
  }
 },
 "nbformat": 4,
 "nbformat_minor": 2
}
